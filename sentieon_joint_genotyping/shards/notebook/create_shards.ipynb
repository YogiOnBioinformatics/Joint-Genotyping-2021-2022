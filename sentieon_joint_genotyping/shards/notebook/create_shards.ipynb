{
 "cells": [
  {
   "cell_type": "markdown",
   "id": "f0e47950-f9a4-421a-9fad-71b8edf5360a",
   "metadata": {},
   "source": [
    "# Create Shards"
   ]
  },
  {
   "cell_type": "markdown",
   "id": "753bda3c-946e-41d3-a114-a0b616625e52",
   "metadata": {},
   "source": [
    "## Purpose: "
   ]
  },
  {
   "cell_type": "markdown",
   "id": "c6cf69c9-efd7-4289-b00b-60734e5aaa9c",
   "metadata": {},
   "source": [
    "* Read Necessary Data\n",
    "* Create Shards by Shard Size\n",
    "* Write to File"
   ]
  },
  {
   "cell_type": "markdown",
   "id": "bb7cd23c-3b87-4cd7-8e4a-91bdbdfe5a7e",
   "metadata": {},
   "source": [
    "## Packages & Options"
   ]
  },
  {
   "cell_type": "code",
   "execution_count": 1,
   "id": "4e0d4127-ba98-4231-8169-0c50a95ea434",
   "metadata": {},
   "outputs": [],
   "source": [
    "import pandas as pd\n",
    "\n",
    "from IPython.core.interactiveshell import InteractiveShell\n",
    "InteractiveShell.ast_node_interactivity = \"all\"\n",
    "\n",
    "pd.set_option('display.max_columns', None)\n",
    "pd.set_option('display.max_rows', None)\n",
    "pd.set_option('display.max_colwidth', None)"
   ]
  },
  {
   "cell_type": "markdown",
   "id": "6e9887cc-d55d-4147-b796-3545d540bc31",
   "metadata": {},
   "source": [
    "## Literals and Read Data"
   ]
  },
  {
   "cell_type": "code",
   "execution_count": 2,
   "id": "9d8e032f-038e-4f65-b4d4-873116a6ce9e",
   "metadata": {},
   "outputs": [],
   "source": [
    "# IMPORTANT: determine this by looking at: \n",
    "# 1. total input data size\n",
    "# 2. max memory allowed for node on chosen partition\n",
    "shard_size = 1000000"
   ]
  },
  {
   "cell_type": "code",
   "execution_count": 3,
   "id": "d0bfebe2-3684-4ad8-9557-8384e7c69d4e",
   "metadata": {},
   "outputs": [],
   "source": [
    "indexed_fastq = pd.read_csv(\n",
    "    \"/home/yraghav/Joint-Genotyping-Fall-2021/inputs/indexed_fasta/GRCh38_full_analysis_set_plus_decoy_hla.chr1-chrY.fa.fai\", \n",
    "    sep=\"\\t\", \n",
    "    header=None, \n",
    ")"
   ]
  },
  {
   "cell_type": "code",
   "execution_count": 4,
   "id": "ca42b4b8-94f1-4c2c-8c36-5e279c13de59",
   "metadata": {},
   "outputs": [
    {
     "data": {
      "text/html": [
       "<div>\n",
       "<style scoped>\n",
       "    .dataframe tbody tr th:only-of-type {\n",
       "        vertical-align: middle;\n",
       "    }\n",
       "\n",
       "    .dataframe tbody tr th {\n",
       "        vertical-align: top;\n",
       "    }\n",
       "\n",
       "    .dataframe thead th {\n",
       "        text-align: right;\n",
       "    }\n",
       "</style>\n",
       "<table border=\"1\" class=\"dataframe\">\n",
       "  <thead>\n",
       "    <tr style=\"text-align: right;\">\n",
       "      <th></th>\n",
       "      <th>0</th>\n",
       "      <th>1</th>\n",
       "      <th>2</th>\n",
       "      <th>3</th>\n",
       "      <th>4</th>\n",
       "    </tr>\n",
       "  </thead>\n",
       "  <tbody>\n",
       "    <tr>\n",
       "      <th>0</th>\n",
       "      <td>chr1</td>\n",
       "      <td>248956422</td>\n",
       "      <td>112</td>\n",
       "      <td>70</td>\n",
       "      <td>71</td>\n",
       "    </tr>\n",
       "    <tr>\n",
       "      <th>1</th>\n",
       "      <td>chr2</td>\n",
       "      <td>242193529</td>\n",
       "      <td>252513167</td>\n",
       "      <td>70</td>\n",
       "      <td>71</td>\n",
       "    </tr>\n",
       "    <tr>\n",
       "      <th>2</th>\n",
       "      <td>chr3</td>\n",
       "      <td>198295559</td>\n",
       "      <td>498166716</td>\n",
       "      <td>70</td>\n",
       "      <td>71</td>\n",
       "    </tr>\n",
       "    <tr>\n",
       "      <th>3</th>\n",
       "      <td>chr4</td>\n",
       "      <td>190214555</td>\n",
       "      <td>699295181</td>\n",
       "      <td>70</td>\n",
       "      <td>71</td>\n",
       "    </tr>\n",
       "    <tr>\n",
       "      <th>4</th>\n",
       "      <td>chr5</td>\n",
       "      <td>181538259</td>\n",
       "      <td>892227221</td>\n",
       "      <td>70</td>\n",
       "      <td>71</td>\n",
       "    </tr>\n",
       "  </tbody>\n",
       "</table>\n",
       "</div>"
      ],
      "text/plain": [
       "      0          1          2   3   4\n",
       "0  chr1  248956422        112  70  71\n",
       "1  chr2  242193529  252513167  70  71\n",
       "2  chr3  198295559  498166716  70  71\n",
       "3  chr4  190214555  699295181  70  71\n",
       "4  chr5  181538259  892227221  70  71"
      ]
     },
     "execution_count": 4,
     "metadata": {},
     "output_type": "execute_result"
    },
    {
     "data": {
      "text/html": [
       "<div>\n",
       "<style scoped>\n",
       "    .dataframe tbody tr th:only-of-type {\n",
       "        vertical-align: middle;\n",
       "    }\n",
       "\n",
       "    .dataframe tbody tr th {\n",
       "        vertical-align: top;\n",
       "    }\n",
       "\n",
       "    .dataframe thead th {\n",
       "        text-align: right;\n",
       "    }\n",
       "</style>\n",
       "<table border=\"1\" class=\"dataframe\">\n",
       "  <thead>\n",
       "    <tr style=\"text-align: right;\">\n",
       "      <th></th>\n",
       "      <th>0</th>\n",
       "      <th>1</th>\n",
       "      <th>2</th>\n",
       "      <th>3</th>\n",
       "      <th>4</th>\n",
       "    </tr>\n",
       "  </thead>\n",
       "  <tbody>\n",
       "    <tr>\n",
       "      <th>19</th>\n",
       "      <td>chr20</td>\n",
       "      <td>64444167</td>\n",
       "      <td>2751788762</td>\n",
       "      <td>70</td>\n",
       "      <td>71</td>\n",
       "    </tr>\n",
       "    <tr>\n",
       "      <th>20</th>\n",
       "      <td>chr21</td>\n",
       "      <td>46709983</td>\n",
       "      <td>2817153685</td>\n",
       "      <td>70</td>\n",
       "      <td>71</td>\n",
       "    </tr>\n",
       "    <tr>\n",
       "      <th>21</th>\n",
       "      <td>chr22</td>\n",
       "      <td>50818468</td>\n",
       "      <td>2864531079</td>\n",
       "      <td>70</td>\n",
       "      <td>71</td>\n",
       "    </tr>\n",
       "    <tr>\n",
       "      <th>22</th>\n",
       "      <td>chrX</td>\n",
       "      <td>156040895</td>\n",
       "      <td>2916075638</td>\n",
       "      <td>70</td>\n",
       "      <td>71</td>\n",
       "    </tr>\n",
       "    <tr>\n",
       "      <th>23</th>\n",
       "      <td>chrY</td>\n",
       "      <td>57227415</td>\n",
       "      <td>3074345836</td>\n",
       "      <td>70</td>\n",
       "      <td>71</td>\n",
       "    </tr>\n",
       "  </tbody>\n",
       "</table>\n",
       "</div>"
      ],
      "text/plain": [
       "        0          1           2   3   4\n",
       "19  chr20   64444167  2751788762  70  71\n",
       "20  chr21   46709983  2817153685  70  71\n",
       "21  chr22   50818468  2864531079  70  71\n",
       "22   chrX  156040895  2916075638  70  71\n",
       "23   chrY   57227415  3074345836  70  71"
      ]
     },
     "execution_count": 4,
     "metadata": {},
     "output_type": "execute_result"
    }
   ],
   "source": [
    "indexed_fastq.head()\n",
    "indexed_fastq.tail()"
   ]
  },
  {
   "cell_type": "markdown",
   "id": "6b739c1b-e007-4366-ad53-c91ff506d050",
   "metadata": {},
   "source": [
    "## Create Shards with Chosen Shard Size"
   ]
  },
  {
   "cell_type": "code",
   "execution_count": 5,
   "id": "e8440861-b3ba-4bbf-b1c9-2793d21ab6d3",
   "metadata": {},
   "outputs": [],
   "source": [
    "# list of final output shards\n",
    "shard_list = []\n",
    "\n",
    "# per each row \n",
    "for index, row in indexed_fastq.iterrows():\n",
    "    \n",
    "    # start position\n",
    "    start_position = 1\n",
    "    # save chromosome length as int \n",
    "    chromosome_length = int(row[1])\n",
    "    \n",
    "    # if shard size is larger than chromosome size (unlikely): \n",
    "    if shard_size > int(row[1]): \n",
    "        # make whole chromosome as shard\n",
    "        shard_list.append(\n",
    "            \"{}:{}-{}\".format(\n",
    "                row[0], \n",
    "                start_position, \n",
    "                row[1])\n",
    "        )\n",
    "        \n",
    "        # break out of iteration \n",
    "        break\n",
    "     \n",
    "    # shard size is smaller than chromosome size (normal)\n",
    "    else: \n",
    "        # append the first shard for the chromosome\n",
    "        shard_list.append(\n",
    "            \"{}:{}-{}\".format(\n",
    "                row[0], \n",
    "                start_position,\n",
    "                shard_size\n",
    "            )\n",
    "        )\n",
    "        \n",
    "        # update start position \n",
    "        start_position = start_position + shard_size\n",
    "    \n",
    "    # still need to make shards \n",
    "    while(start_position < chromosome_length):\n",
    "        \n",
    "        # if using 'shard_size' pushes us over chromsome boundary\n",
    "        if start_position + shard_size > chromosome_length: \n",
    "            # just take from start position to end of chromosome \n",
    "            shard_list.append(\n",
    "                \"{}:{}-{}\".format(\n",
    "                    row[0], \n",
    "                    start_position, \n",
    "                    chromosome_length\n",
    "                )\n",
    "            )\n",
    "            \n",
    "            # update start position \n",
    "            start_position = start_position + shard_size\n",
    "        \n",
    "        # make full size shard \n",
    "        else: \n",
    "            shard_list.append(\n",
    "                \"{}:{}-{}\".format(\n",
    "                    row[0],\n",
    "                    start_position, \n",
    "                    (start_position + shard_size -1 )\n",
    "                )\n",
    "            )\n",
    "            \n",
    "            # update start position \n",
    "            start_position = start_position + shard_size\n",
    "            \n",
    "        \n"
   ]
  },
  {
   "cell_type": "code",
   "execution_count": 6,
   "id": "3e23e0d3-68f0-409f-9cc5-3a8b64f32a11",
   "metadata": {},
   "outputs": [
    {
     "data": {
      "text/plain": [
       "0             chr1:1-1000000\n",
       "1       chr1:1000001-2000000\n",
       "2       chr1:2000001-3000000\n",
       "3       chr1:3000001-4000000\n",
       "4       chr1:4000001-5000000\n",
       "5       chr1:5000001-6000000\n",
       "6       chr1:6000001-7000000\n",
       "7       chr1:7000001-8000000\n",
       "8       chr1:8000001-9000000\n",
       "9      chr1:9000001-10000000\n",
       "10    chr1:10000001-11000000\n",
       "11    chr1:11000001-12000000\n",
       "12    chr1:12000001-13000000\n",
       "13    chr1:13000001-14000000\n",
       "14    chr1:14000001-15000000\n",
       "15    chr1:15000001-16000000\n",
       "16    chr1:16000001-17000000\n",
       "17    chr1:17000001-18000000\n",
       "18    chr1:18000001-19000000\n",
       "19    chr1:19000001-20000000\n",
       "dtype: object"
      ]
     },
     "execution_count": 6,
     "metadata": {},
     "output_type": "execute_result"
    },
    {
     "data": {
      "text/plain": [
       "3082    chrY:38000001-39000000\n",
       "3083    chrY:39000001-40000000\n",
       "3084    chrY:40000001-41000000\n",
       "3085    chrY:41000001-42000000\n",
       "3086    chrY:42000001-43000000\n",
       "3087    chrY:43000001-44000000\n",
       "3088    chrY:44000001-45000000\n",
       "3089    chrY:45000001-46000000\n",
       "3090    chrY:46000001-47000000\n",
       "3091    chrY:47000001-48000000\n",
       "3092    chrY:48000001-49000000\n",
       "3093    chrY:49000001-50000000\n",
       "3094    chrY:50000001-51000000\n",
       "3095    chrY:51000001-52000000\n",
       "3096    chrY:52000001-53000000\n",
       "3097    chrY:53000001-54000000\n",
       "3098    chrY:54000001-55000000\n",
       "3099    chrY:55000001-56000000\n",
       "3100    chrY:56000001-57000000\n",
       "3101    chrY:57000001-57227415\n",
       "dtype: object"
      ]
     },
     "execution_count": 6,
     "metadata": {},
     "output_type": "execute_result"
    }
   ],
   "source": [
    "pd.Series(shard_list).head(n=20)\n",
    "pd.Series(shard_list).tail(n=20)"
   ]
  },
  {
   "cell_type": "markdown",
   "id": "2ad91963-f727-4cb5-b1e1-81105ebbc834",
   "metadata": {},
   "source": [
    "## Write to File"
   ]
  },
  {
   "cell_type": "code",
   "execution_count": 7,
   "id": "76e89a8c-bbf6-41d2-a9f6-032f0479d27f",
   "metadata": {},
   "outputs": [],
   "source": [
    "with open(\n",
    "    \"/home/yraghav/Joint-Genotyping-Fall-2021/sentieon_joint_genotyping/shards/output/shards.txt\", \n",
    "    'w'\n",
    ") as out_file: \n",
    "    \n",
    "    for shard in shard_list: \n",
    "        _ = out_file.write(shard+\"\\n\")"
   ]
  }
 ],
 "metadata": {
  "kernelspec": {
   "display_name": "Python 3",
   "language": "python",
   "name": "python3"
  },
  "language_info": {
   "codemirror_mode": {
    "name": "ipython",
    "version": 3
   },
   "file_extension": ".py",
   "mimetype": "text/x-python",
   "name": "python",
   "nbconvert_exporter": "python",
   "pygments_lexer": "ipython3",
   "version": "3.9.4"
  }
 },
 "nbformat": 4,
 "nbformat_minor": 5
}
