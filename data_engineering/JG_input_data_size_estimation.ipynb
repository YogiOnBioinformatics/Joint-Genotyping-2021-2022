{
 "cells": [
  {
   "cell_type": "code",
   "execution_count": 1,
   "id": "19f6eee6-a683-4a08-8ed2-417a8e0313bf",
   "metadata": {},
   "outputs": [],
   "source": [
    "import sys, glob, pandas, os.path"
   ]
  },
  {
   "cell_type": "code",
   "execution_count": 5,
   "id": "f12ba44b-3a42-4b86-8626-08176a5a692d",
   "metadata": {},
   "outputs": [],
   "source": [
    "files=glob.glob(\"/pool/data/globus/answer_als_genomics/**/*haplotypeCalls.er.raw.vcf.gz*\", recursive=True) + \\\n",
    "glob.glob(\"/pool/data/globus/PUSHED_FROM_MIT/**/*haplotypeCalls.er.raw.vcf.gz*\", recursive=True) + \\\n",
    "glob.glob(\"/pool/data/globus/genomics_other/**/*haplotypeCalls.er.raw.vcf.gz*\", recursive=True) + \\\n",
    "glob.glob(\"/pool/data/globus/PUSHED_FROM_NYGC/**/*haplotypeCalls.er.raw.vcf.gz*\", recursive=True)"
   ]
  },
  {
   "cell_type": "code",
   "execution_count": 2,
   "id": "07f164e0-a5ad-45b8-8850-e30794299a31",
   "metadata": {},
   "outputs": [],
   "source": [
    "# files = glob.glob(\"/pool/data/globus/PUSHED_FROM_NYGC/answer-als/september_2021/**/*haplotypeCalls.er.raw.vcf.gz*\", recursive=True)"
   ]
  },
  {
   "cell_type": "code",
   "execution_count": 6,
   "id": "143d9435-d004-4cc3-8bd2-59d2faa360ea",
   "metadata": {},
   "outputs": [],
   "source": [
    "sum = 0\n",
    "\n",
    "for file in files: \n",
    "    sum+=os.path.getsize(file)"
   ]
  },
  {
   "cell_type": "code",
   "execution_count": 7,
   "id": "354bad18-cf52-43c2-b3d1-8725e92a18d2",
   "metadata": {},
   "outputs": [
    {
     "data": {
      "text/plain": [
       "42677422788738"
      ]
     },
     "execution_count": 7,
     "metadata": {},
     "output_type": "execute_result"
    }
   ],
   "source": [
    "sum"
   ]
  }
 ],
 "metadata": {
  "kernelspec": {
   "display_name": "Python 3",
   "language": "python",
   "name": "python3"
  },
  "language_info": {
   "codemirror_mode": {
    "name": "ipython",
    "version": 3
   },
   "file_extension": ".py",
   "mimetype": "text/x-python",
   "name": "python",
   "nbconvert_exporter": "python",
   "pygments_lexer": "ipython3",
   "version": "3.9.4"
  }
 },
 "nbformat": 4,
 "nbformat_minor": 5
}
